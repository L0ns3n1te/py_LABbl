{
  "nbformat": 4,
  "nbformat_minor": 0,
  "metadata": {
    "colab": {
      "provenance": [],
      "authorship_tag": "ABX9TyNsUaxvQ7eJsly/ARuHQ6mi",
      "include_colab_link": true
    },
    "kernelspec": {
      "name": "python3",
      "display_name": "Python 3"
    },
    "language_info": {
      "name": "python"
    }
  },
  "cells": [
    {
      "cell_type": "markdown",
      "metadata": {
        "id": "view-in-github",
        "colab_type": "text"
      },
      "source": [
        "<a href=\"https://colab.research.google.com/github/L0ns3n1te/py_LABbl/blob/main/%D0%9B%D0%B0%D0%B1%D0%BE%D1%80%D0%B0%D1%82%D0%BE%D1%80%D0%BD%D0%B0%D1%8F_%D1%80%D0%B0%D0%B1%D0%BE%D1%82%D0%B0_%E2%84%961.ipynb\" target=\"_parent\"><img src=\"https://colab.research.google.com/assets/colab-badge.svg\" alt=\"Open In Colab\"/></a>"
      ]
    },
    {
      "cell_type": "code",
      "execution_count": 2,
      "metadata": {
        "colab": {
          "base_uri": "https://localhost:8080/"
        },
        "id": "3lzVAYwow1-K",
        "outputId": "8d679ff3-4e45-4c16-9610-c9974597c2a2"
      },
      "outputs": [
        {
          "output_type": "stream",
          "name": "stdout",
          "text": [
            "[[1., 0., 0., 0., 0., 0., 0., 0., 0., 0., 0., 0.],\n",
            " [0., 1., 0., 0., 0., 0., 0., 0., 0., 0., 0., 0.],\n",
            " [0., 0., 1., 0., 0., 0., 0., 0., 0., 0., 0., 0.],\n",
            " [0., 0., 0., 1., 0., 0., 0., 0., 0., 0., 0., 0.],\n",
            " [0., 0., 0., 0., 1., 0., 0., 0., 0., 0., 0., 0.],\n",
            " [0., 0., 0., 0., 0., 1., 0., 0., 0., 0., 0., 0.],\n",
            " [0., 0., 0., 0., 0., 0., 1., 0., 0., 0., 0., 0.],\n",
            " [0., 0., 0., 0., 0., 0., 0., 1., 0., 0., 0., 0.],\n",
            " [0., 0., 0., 0., 0., 0., 0., 0., 1., 0., 0., 0.],\n",
            " [0., 0., 0., 0., 0., 0., 0., 0., 0., 1., 0., 0.],\n",
            " [0., 0., 0., 0., 0., 0., 0., 0., 0., 0., 1., 0.],\n",
            " [0., 0., 0., 0., 0., 0., 0., 0., 0., 0., 0., 1.]]\n"
          ]
        }
      ],
      "source": [
        "import numpy as np\n",
        "# 1\n",
        "array1 = np.identity(12)\n",
        "print(np.array2string(array1, separator=', '))"
      ]
    },
    {
      "cell_type": "code",
      "source": [
        "# 2\n",
        "array2 = np.zeros((9, 9), dtype=int)\n",
        "array2[1::2, ::2] = 1\n",
        "array2[::2, 1::2] = 1\n",
        "print(np.array2string(array2, separator=', '))"
      ],
      "metadata": {
        "colab": {
          "base_uri": "https://localhost:8080/"
        },
        "id": "v48sJ6AC-PkS",
        "outputId": "60cbfe20-2b1a-40e7-fb92-d80939a2dccc"
      },
      "execution_count": 3,
      "outputs": [
        {
          "output_type": "stream",
          "name": "stdout",
          "text": [
            "[[0, 1, 0, 1, 0, 1, 0, 1, 0],\n",
            " [1, 0, 1, 0, 1, 0, 1, 0, 1],\n",
            " [0, 1, 0, 1, 0, 1, 0, 1, 0],\n",
            " [1, 0, 1, 0, 1, 0, 1, 0, 1],\n",
            " [0, 1, 0, 1, 0, 1, 0, 1, 0],\n",
            " [1, 0, 1, 0, 1, 0, 1, 0, 1],\n",
            " [0, 1, 0, 1, 0, 1, 0, 1, 0],\n",
            " [1, 0, 1, 0, 1, 0, 1, 0, 1],\n",
            " [0, 1, 0, 1, 0, 1, 0, 1, 0]]\n"
          ]
        }
      ]
    },
    {
      "cell_type": "code",
      "source": [
        "# 3\n",
        "np.random.seed(42)\n",
        "vector = np.random.random(10)\n",
        "vector.sort()\n",
        "print(np.array2string(vector, separator=', '))"
      ],
      "metadata": {
        "id": "u8xiypn6-him"
      },
      "execution_count": null,
      "outputs": []
    },
    {
      "cell_type": "code",
      "source": [
        "# 4\n",
        "np.random.seed(42)\n",
        "fourth_array = np.random.randint(3, 5, (8, 3))\n",
        "print(True in np.all(fourth_array == 4, axis=1))"
      ],
      "metadata": {
        "id": "Bd4xOQUU-hqS"
      },
      "execution_count": null,
      "outputs": []
    },
    {
      "cell_type": "code",
      "source": [
        "# 5\n",
        "array5 = np.append(np.zeros(5), 1)\n",
        "print(array5)"
      ],
      "metadata": {
        "id": "ku16Ixsj-hy6"
      },
      "execution_count": null,
      "outputs": []
    },
    {
      "cell_type": "code",
      "source": [
        "# 6\n",
        "array = np.arange(12).reshape((2, 3, 2))\n",
        "index = np.unravel_index(9, array.shape)\n",
        "index = tuple(int(i) for i in index)\n",
        "print(index)"
      ],
      "metadata": {
        "id": "XRCRdFQs-iNF"
      },
      "execution_count": null,
      "outputs": []
    }
  ]
}